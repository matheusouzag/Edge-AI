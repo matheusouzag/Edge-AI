{
 "cells": [
  {
   "cell_type": "code",
   "execution_count": 1,
   "metadata": {},
   "outputs": [
    {
     "name": "stderr",
     "output_type": "stream",
     "text": [
      "c:\\Users\\mathe\\AppData\\Local\\Programs\\Python\\Python312\\Lib\\site-packages\\tqdm\\auto.py:21: TqdmWarning: IProgress not found. Please update jupyter and ipywidgets. See https://ipywidgets.readthedocs.io/en/stable/user_install.html\n",
      "  from .autonotebook import tqdm as notebook_tqdm\n"
     ]
    }
   ],
   "source": [
    "from smolagents import CodeAgent, DuckDuckGoSearchTool, FinalAnswerTool, HfApiModel, load_tool, tool\n",
    "import datetime\n",
    "import requests\n",
    "import pytz\n",
    "import yaml"
   ]
  },
  {
   "cell_type": "code",
   "execution_count": 3,
   "metadata": {},
   "outputs": [],
   "source": [
    "import os\n",
    "import re\n",
    "from langchain.document_loaders import PyPDFLoader\n",
    "from langchain.text_splitter import RecursiveCharacterTextSplitter\n",
    "from langchain.vectorstores import Chroma\n",
    "from langchain.embeddings import HuggingFaceEmbeddings\n",
    "from langchain.chains import RetrievalQA\n",
    "from langchain.prompts import PromptTemplate\n",
    "from langchain.llms import Ollama"
   ]
  },
  {
   "cell_type": "code",
   "execution_count": 4,
   "metadata": {},
   "outputs": [],
   "source": [
    "# Configurações\n",
    "class Config:\n",
    "    EMBEDDING_MODEL = \"sentence-transformers/all-MiniLM-L6-v2\"\n",
    "    LLM_MODEL = \"llama3.2:3b\"\n",
    "    TEMPERATURE = 0.5\n",
    "    CHUNK_SIZE = 1500\n",
    "    CHUNK_OVERLAP = 200\n",
    "    PERSIST_DIR = \"./chroma_db_pt_legal\"\n",
    "    PDF_PATHS = [\"./docs/ctb.pdf\", \"./docs/mbvt20222.pdf\"]"
   ]
  },
  {
   "cell_type": "code",
   "execution_count": 5,
   "metadata": {},
   "outputs": [],
   "source": [
    "# Função de limpeza (mesma do código anterior)\n",
    "def clean_brazilian_legal_text(text: str) -> str:\n",
    "    patterns = [\n",
    "        r\"Diário Oficial .+? Página \\d+\",\n",
    "        r\"Lei Nº \\d+\\.\\d+ de \\d{2}/\\d{2}/\\d{4}\",\n",
    "        r\"Publicado em: \\d{2}/\\d{2}/\\d{4}\",\n",
    "        r\"Este texto não substitui o original publicado\",\n",
    "        r\"\\n\\s*\\d+\\s*\\n\"\n",
    "    ]\n",
    "    \n",
    "    for pattern in patterns:\n",
    "        text = re.sub(pattern, \"\", text, flags=re.IGNORECASE)\n",
    "    \n",
    "    text = re.sub(r\"(?i)(artigo|art\\.) ?(\\d+)\", r\"Art. \\2\", text)\n",
    "    text = re.sub(r\"§ ?(único|\\d+º?)\", r\"§ \\1\", text)\n",
    "    \n",
    "    return re.sub(r\"\\s+\", \" \", text).strip()"
   ]
  },
  {
   "cell_type": "code",
   "execution_count": 6,
   "metadata": {},
   "outputs": [
    {
     "name": "stdout",
     "output_type": "stream",
     "text": [
      "✗ Erro em ./docs/ctb.pdf: File path ./docs/ctb.pdf is not a valid file or url\n",
      "✗ Erro em ./docs/mbvt20222.pdf: File path ./docs/mbvt20222.pdf is not a valid file or url\n"
     ]
    }
   ],
   "source": [
    "# Carregar e processar documentos\n",
    "documents = []\n",
    "for path in Config.PDF_PATHS:\n",
    "    try:\n",
    "        loader = PyPDFLoader(path)\n",
    "        pages = loader.load_and_split(text_splitter=None)\n",
    "        for page in pages:\n",
    "            cleaned = clean_brazilian_legal_text(page.page_content)\n",
    "            if cleaned.strip():\n",
    "                page.page_content = cleaned\n",
    "                documents.append(page)\n",
    "        print(f\"✓ {os.path.basename(path)} processado\")\n",
    "    except Exception as e:\n",
    "        print(f\"✗ Erro em {path}: {str(e)}\")"
   ]
  },
  {
   "cell_type": "code",
   "execution_count": 7,
   "metadata": {},
   "outputs": [],
   "source": [
    "# Configuração do text splitter jurídico corrigida\n",
    "text_splitter = RecursiveCharacterTextSplitter(\n",
    "    chunk_size=Config.CHUNK_SIZE,\n",
    "    chunk_overlap=Config.CHUNK_OVERLAP,\n",
    "    separators=[\n",
    "        r\"\\n\\nArt\\. \\d+\\.\",  # Separa por artigos\n",
    "        r\"\\n§ \",             # Separa por parágrafos\n",
    "        r\"\\n\\n\", \n",
    "        r\"\\n\", \n",
    "        \" \", \n",
    "        \"\"\n",
    "    ],\n",
    "    length_function=lambda x: len(x.split()),\n",
    "    is_separator_regex=False  # Desativa regex complexo\n",
    ")"
   ]
  },
  {
   "cell_type": "code",
   "execution_count": 8,
   "metadata": {},
   "outputs": [
    {
     "name": "stdout",
     "output_type": "stream",
     "text": [
      "Total de chunks gerados: 0\n",
      "Exemplo de chunk inicial:\n"
     ]
    },
    {
     "ename": "IndexError",
     "evalue": "list index out of range",
     "output_type": "error",
     "traceback": [
      "\u001b[1;31m---------------------------------------------------------------------------\u001b[0m",
      "\u001b[1;31mIndexError\u001b[0m                                Traceback (most recent call last)",
      "Cell \u001b[1;32mIn[8], line 7\u001b[0m\n\u001b[0;32m      5\u001b[0m \u001b[38;5;28mprint\u001b[39m(\u001b[38;5;124mf\u001b[39m\u001b[38;5;124m\"\u001b[39m\u001b[38;5;124mTotal de chunks gerados: \u001b[39m\u001b[38;5;132;01m{\u001b[39;00m\u001b[38;5;28mlen\u001b[39m(texts)\u001b[38;5;132;01m}\u001b[39;00m\u001b[38;5;124m\"\u001b[39m)\n\u001b[0;32m      6\u001b[0m \u001b[38;5;28mprint\u001b[39m(\u001b[38;5;124m\"\u001b[39m\u001b[38;5;124mExemplo de chunk inicial:\u001b[39m\u001b[38;5;124m\"\u001b[39m)\n\u001b[1;32m----> 7\u001b[0m \u001b[38;5;28mprint\u001b[39m(\u001b[43mtexts\u001b[49m\u001b[43m[\u001b[49m\u001b[38;5;241;43m0\u001b[39;49m\u001b[43m]\u001b[49m\u001b[38;5;241m.\u001b[39mpage_content[:\u001b[38;5;241m500\u001b[39m] \u001b[38;5;241m+\u001b[39m \u001b[38;5;124m\"\u001b[39m\u001b[38;5;124m...\u001b[39m\u001b[38;5;124m\"\u001b[39m)\n",
      "\u001b[1;31mIndexError\u001b[0m: list index out of range"
     ]
    }
   ],
   "source": [
    "# Processamento de documentos\n",
    "texts = text_splitter.split_documents(documents)\n",
    "\n",
    "# Verificação pós-split\n",
    "print(f\"Total de chunks gerados: {len(texts)}\")\n",
    "print(\"Exemplo de chunk inicial:\")\n",
    "print(texts[0].page_content[:500] + \"...\")"
   ]
  },
  {
   "cell_type": "code",
   "execution_count": null,
   "metadata": {},
   "outputs": [],
   "source": [
    "# Verificar duplicatas\n",
    "seen = set()\n",
    "duplicates = 0\n",
    "for t in texts:\n",
    "    h = hash(t.page_content.strip().lower())\n",
    "    if h in seen:\n",
    "        duplicates += 1\n",
    "    seen.add(h)\n",
    "print(f\"Chunks duplicados: {duplicates}\")"
   ]
  },
  {
   "cell_type": "code",
   "execution_count": null,
   "metadata": {},
   "outputs": [],
   "source": [
    "# Inicializar embeddings\n",
    "embeddings = HuggingFaceEmbeddings(model_name=Config.EMBEDDING_MODEL)"
   ]
  },
  {
   "cell_type": "code",
   "execution_count": null,
   "metadata": {},
   "outputs": [],
   "source": [
    "# Criar vetorstore\n",
    "db = Chroma.from_documents(\n",
    "    texts,\n",
    "    embeddings,\n",
    "    persist_directory=Config.PERSIST_DIR,\n",
    "    collection_metadata={\"hnsw:space\": \"cosine\"}\n",
    ")"
   ]
  },
  {
   "cell_type": "code",
   "execution_count": null,
   "metadata": {},
   "outputs": [],
   "source": [
    "# Configurar retriever\n",
    "retriever = db.as_retriever(\n",
    "    search_type=\"mmr\",\n",
    "    search_kwargs={\n",
    "        \"k\": 7,\n",
    "        \"lambda_mult\": 0.45,\n",
    "        \"score_threshold\": 0.25\n",
    "    }\n",
    ")"
   ]
  },
  {
   "cell_type": "code",
   "execution_count": null,
   "metadata": {},
   "outputs": [],
   "source": [
    "# Inicializar LLM\n",
    "llm = Ollama(\n",
    "    model=Config.LLM_MODEL,\n",
    "    temperature=Config.TEMPERATURE,\n",
    "    system=\"Você é um especialista em legislação de trânsito brasileira. Responda com base nos documentos fornecidos.\"\n",
    ")"
   ]
  },
  {
   "cell_type": "code",
   "execution_count": null,
   "metadata": {},
   "outputs": [],
   "source": [
    "# Prompt template\n",
    "prompt_template = \"\"\"\n",
    "    Analise os seguintes trechos e responda de forma estruturada:\n",
    "    \n",
    "    Contexto:\n",
    "    {context}\n",
    "    \n",
    "    Pergunta: {question}\n",
    "    \n",
    "    Inclua:\n",
    "    1. Base legal (artigos/parágrafos)\n",
    "    2. Explicação técnica\n",
    "    3. Fontes (documento e página)\n",
    "    \n",
    "    Resposta:\n",
    "\"\"\"\n",
    "\n",
    "PROMPT = PromptTemplate(\n",
    "    template=prompt_template,\n",
    "    input_variables=[\"context\", \"question\"]\n",
    ")"
   ]
  },
  {
   "cell_type": "code",
   "execution_count": null,
   "metadata": {},
   "outputs": [],
   "source": [
    "# Criar cadeia QA\n",
    "qa_chain = RetrievalQA.from_chain_type(\n",
    "    llm=llm,\n",
    "    chain_type=\"stuff\",\n",
    "    retriever=retriever,\n",
    "    return_source_documents=True,\n",
    "    chain_type_kwargs={\"prompt\": PROMPT}\n",
    ")"
   ]
  },
  {
   "cell_type": "code",
   "execution_count": null,
   "metadata": {},
   "outputs": [],
   "source": [
    "def consultar(pergunta):\n",
    "    try:\n",
    "        result = qa_chain({\"query\": pergunta})\n",
    "        \n",
    "        print(f\"\\n🔍 Pergunta: {pergunta}\")\n",
    "        print(f\"\\n📝 Resposta:\\n{result['result']}\")\n",
    "        \n",
    "        print(\"\\n📚 Fontes:\")\n",
    "        seen_sources = set()\n",
    "        for doc in result['source_documents']:\n",
    "            src = f\"{os.path.basename(doc.metadata['source'])} - Página {doc.metadata['page']}\"\n",
    "            if src not in seen_sources:\n",
    "                print(f\"  - {src}\")\n",
    "                seen_sources.add(src)\n",
    "                \n",
    "    except Exception as e:\n",
    "        print(f\"Erro: {str(e)}\")"
   ]
  },
  {
   "cell_type": "code",
   "execution_count": null,
   "metadata": {},
   "outputs": [],
   "source": [
    "# Exemplo 1\n",
    "consultar(\"Qual é a idade mínima para habilitação na categoria D?\")"
   ]
  },
  {
   "cell_type": "code",
   "execution_count": null,
   "metadata": {},
   "outputs": [],
   "source": [
    "# Exemplo 2\n",
    "consultar(\"Quais as penalidades por dirigir sob efeito de álcool?\")"
   ]
  },
  {
   "cell_type": "code",
   "execution_count": null,
   "metadata": {},
   "outputs": [],
   "source": [
    "# Exemplo 3\n",
    "consultar(\"Compare as exigências para as categorias B e D\")"
   ]
  },
  {
   "cell_type": "code",
   "execution_count": null,
   "metadata": {},
   "outputs": [],
   "source": [
    "consultar(\n",
    "    '''\n",
    "    Escolha a opção correta: Para habilitar-se na categoria “D”, o candidato deverá ser: \n",
    "    a) maior de 18 anos; \n",
    "    b) penalmente imputável, não importando sua idade; \n",
    "    c) menor de 21 anos; \n",
    "    d) maior de 21 anos\"\n",
    "    '''\n",
    ")"
   ]
  },
  {
   "cell_type": "code",
   "execution_count": null,
   "metadata": {},
   "outputs": [],
   "source": [
    "consultar(\n",
    "'''\n",
    "    Escolha a opção correta: Para dirigir com segurança, evitando acidentes, o condutor deve demonstrar:\n",
    "    \n",
    "    Opção 1: habilidade ao dirigir; conhecimento das regras de trânsito; cooperação com os demais usuários da via;\n",
    "    Opção 2: conhecimento de algumas regras de trânsito; agressividade nas situações perigosas; habilidade ao dirigir;\n",
    "    Opção 3: bom senso; respeito apenas às regras mais importantes para a segurança; habilidade ao dirigir;\n",
    "    Opção 4: habilidade ao dirigir; conhecimento de algumas regras de trânsito; bom senso.\n",
    "    '''\n",
    ")"
   ]
  },
  {
   "cell_type": "code",
   "execution_count": null,
   "metadata": {},
   "outputs": [],
   "source": [
    "consultar(\n",
    "    '''\n",
    "    Escolha a opção correta: O condutor de veículo deve dar preferência de passagem aos pedestres:\n",
    "    \n",
    "    Opção 1: somente quando estão atravessando na faixa de pedestres;\n",
    "    Opção 2: que não tenham concluído a travessia, quando houver mudança de sinal;\n",
    "    Opção 3: caso as pessoas estejam próximas a área escolar;\n",
    "    Opção 4: somente quando isso for solicitado pelo agente de trânsito.\n",
    "    '''\n",
    ")"
   ]
  },
  {
   "cell_type": "markdown",
   "metadata": {},
   "source": [
    "<img src=\"https://portal.wemeds.com.br/wp-content/uploads/2023/04/escore-news.jpg\" width=\"500\"/>"
   ]
  },
  {
   "cell_type": "code",
   "execution_count": null,
   "metadata": {},
   "outputs": [],
   "source": [
    "@tool\n",
    "def clinical_deterioration_risk(resp_rate: int, spo2: int, bp_systolic: int, heart_rate: int, temp: float, avpu: str) -> str:\n",
    "    \"\"\"Calcula o risco de deterioração clínica com base no escore NEWS.\n",
    "    \n",
    "    Args:\n",
    "        resp_rate: Frequência respiratória (rpm)\n",
    "        spo2: Saturação de oxigênio (%)\n",
    "        bp_systolic: Pressão arterial sistólica (mmHg)\n",
    "        heart_rate: Frequência cardíaca (bpm)\n",
    "        temp: Temperatura corporal (°C)\n",
    "        avpu: Nível de consciência (Alerta, Responde à Voz, Responde à Dor, Inconsciente)\n",
    "    \n",
    "    Returns:\n",
    "        Uma string indicando o nível de risco do paciente.\n",
    "    \"\"\"\n",
    "\n",
    "    if resp_rate <= 8:\n",
    "        resp_score = 3\n",
    "    elif 9 <= resp_rate <= 11:\n",
    "        resp_score = 1\n",
    "    elif 12 <= resp_rate <= 20:\n",
    "        resp_score = 0\n",
    "    elif 21 <= resp_rate <= 24:\n",
    "        resp_score = 2\n",
    "    else:\n",
    "        resp_score = 3\n",
    "    \n",
    "    if spo2 >= 96:\n",
    "        spo2_score = 0\n",
    "    elif 94 <= spo2 <= 95:\n",
    "        spo2_score = 1\n",
    "    elif 92 <= spo2 <= 93:\n",
    "        spo2_score = 2\n",
    "    else:\n",
    "        spo2_score = 3\n",
    "    \n",
    "    if bp_systolic >= 110 and bp_systolic <= 219:\n",
    "        bp_score = 0\n",
    "    elif 100 <= bp_systolic < 110:\n",
    "        bp_score = 1\n",
    "    elif 90 <= bp_systolic < 100:\n",
    "        bp_score = 2\n",
    "    else:\n",
    "        bp_score = 3\n",
    "    \n",
    "    if heart_rate <= 40:\n",
    "        hr_score = 3\n",
    "    elif 41 <= heart_rate <= 50:\n",
    "        hr_score = 1\n",
    "    elif 51 <= heart_rate <= 90:\n",
    "        hr_score = 0\n",
    "    elif 91 <= heart_rate <= 110:\n",
    "        hr_score = 1\n",
    "    elif 111 <= heart_rate <= 130:\n",
    "        hr_score = 2\n",
    "    else:\n",
    "        hr_score = 3\n",
    "    \n",
    "    if temp < 35:\n",
    "        temp_score = 3\n",
    "    elif 35 <= temp <= 36:\n",
    "        temp_score = 1\n",
    "    elif 36.1 <= temp <= 38:\n",
    "        temp_score = 0\n",
    "    elif 38.1 <= temp <= 39:\n",
    "        temp_score = 1\n",
    "    else:\n",
    "        temp_score = 2\n",
    "    \n",
    "    avpu_score = 0 if avpu.lower() == \"alerta\" else 3\n",
    "    total_score = resp_score + spo2_score + bp_score + hr_score + temp_score + avpu_score\n",
    "    \n",
    "    if total_score == 0:\n",
    "        return \"Risco mínimo - Monitoramento de rotina\"\n",
    "    elif 1 <= total_score <= 4:\n",
    "        return \"Risco baixo - Observação clínica\"\n",
    "    elif 5 <= total_score <= 6:\n",
    "        return \"Risco moderado - Revisão urgente por profissional de saúde\"\n",
    "    else:\n",
    "        return \"Risco alto - Atendimento médico imediato\""
   ]
  },
  {
   "cell_type": "code",
   "execution_count": null,
   "metadata": {},
   "outputs": [],
   "source": []
  }
 ],
 "metadata": {
  "kernelspec": {
   "display_name": "Python 3",
   "language": "python",
   "name": "python3"
  },
  "language_info": {
   "codemirror_mode": {
    "name": "ipython",
    "version": 3
   },
   "file_extension": ".py",
   "mimetype": "text/x-python",
   "name": "python",
   "nbconvert_exporter": "python",
   "pygments_lexer": "ipython3",
   "version": "3.12.3"
  }
 },
 "nbformat": 4,
 "nbformat_minor": 2
}
