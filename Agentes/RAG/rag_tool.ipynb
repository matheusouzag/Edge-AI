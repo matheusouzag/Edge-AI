{
 "cells": [
  {
   "cell_type": "code",
   "execution_count": 2,
   "metadata": {},
   "outputs": [
    {
     "name": "stderr",
     "output_type": "stream",
     "text": [
      "c:\\Users\\mathe\\AppData\\Local\\Programs\\Python\\Python312\\Lib\\site-packages\\tqdm\\auto.py:21: TqdmWarning: IProgress not found. Please update jupyter and ipywidgets. See https://ipywidgets.readthedocs.io/en/stable/user_install.html\n",
      "  from .autonotebook import tqdm as notebook_tqdm\n"
     ]
    }
   ],
   "source": [
    "from smolagents import CodeAgent, DuckDuckGoSearchTool, FinalAnswerTool, HfApiModel, load_tool, tool\n",
    "import datetime\n",
    "import requests\n",
    "import pytz\n",
    "import yaml"
   ]
  },
  {
   "cell_type": "code",
   "execution_count": 1,
   "metadata": {},
   "outputs": [],
   "source": [
    "import os\n",
    "import re\n",
    "from langchain.document_loaders import PyPDFLoader\n",
    "from langchain.text_splitter import RecursiveCharacterTextSplitter\n",
    "from langchain.vectorstores import Chroma\n",
    "from langchain_huggingface import HuggingFaceEmbeddings\n",
    "from langchain.chains import RetrievalQA\n",
    "from langchain.prompts import PromptTemplate\n",
    "from langchain_ollama.llms import OllamaLLM\n",
    "import numpy as np"
   ]
  },
  {
   "cell_type": "code",
   "execution_count": 3,
   "metadata": {},
   "outputs": [],
   "source": [
    "# Configurações\n",
    "class Config:\n",
    "    EMBEDDING_MODEL = \"sentence-transformers/all-MiniLM-L6-v2\" # modelo de enbedding usado texto -> vetor numérico\n",
    "    LLM_MODEL = \"llama3.2:3b\" # modelo\n",
    "    TEMPERATURE = 0.5 # 0.5 menor = mais deterministico / maior = criativo ou aleatório\n",
    "    CHUNK_SIZE = 300 # 1500 chunks para divisão do texto\n",
    "    CHUNK_OVERLAP = 50 # 200 sobreposição dos pedaços de texto\n",
    "    PERSIST_DIR = \"./chroma_db_pt_legal\" # diretorio dos enbeddings\n",
    "    PDF_PATHS = [\"M:\\\\tcc\\\\edge-ai\\\\pdfs\\\\classificacao.pdf\"]\n",
    "    # PDF_PATHS = [\"M:\\\\tcc\\\\edge-ai\\\\pdfs\\\\Direção Defensiva.pdf\", \n",
    "    #             \"M:\\\\tcc\\\\edge-ai\\\\pdfs\\\\Manual de Primeiros Socorros.pdf\",\n",
    "    #             \"M:\\\\tcc\\\\edge-ai\\\\pdfs\\\\Noções de Primeiros Socorros no Trânsito.pdf\",\n",
    "    #             \"M:\\\\tcc\\\\edge-ai\\\\pdfs\\\\Segurança no Transporte crianças e gestantes.pdf\",\n",
    "    #             \"M:\\\\tcc\\\\edge-ai\\\\pdfs\\\\Sinalização.pdf\"]"
   ]
  },
  {
   "cell_type": "code",
   "execution_count": 4,
   "metadata": {},
   "outputs": [],
   "source": [
    "# Função de limpeza (mesma do código anterior)\n",
    "def clean_brazilian_legal_text(text: str) -> str:\n",
    "    patterns = [\n",
    "        r\"Diário Oficial .+? Página \\d+\",\n",
    "        r\"Lei Nº \\d+\\.\\d+ de \\d{2}/\\d{2}/\\d{4}\",\n",
    "        r\"Publicado em: \\d{2}/\\d{2}/\\d{4}\",\n",
    "        r\"Este texto não substitui o original publicado\",\n",
    "        r\"\\n\\s*\\d+\\s*\\n\"\n",
    "    ]\n",
    "    \n",
    "    for pattern in patterns:\n",
    "        text = re.sub(pattern, \"\", text, flags=re.IGNORECASE)\n",
    "    \n",
    "    text = re.sub(r\"(?i)(artigo|art\\.) ?(\\d+)\", r\"Art. \\2\", text)\n",
    "    text = re.sub(r\"§ ?(único|\\d+º?)\", r\"§ \\1\", text)\n",
    "    \n",
    "    return re.sub(r\"\\s+\", \" \", text).strip()"
   ]
  },
  {
   "cell_type": "code",
   "execution_count": 5,
   "metadata": {},
   "outputs": [
    {
     "name": "stdout",
     "output_type": "stream",
     "text": [
      "✓ classificacao.pdf processado\n"
     ]
    }
   ],
   "source": [
    "# Carregar e processar documentos\n",
    "documents = []\n",
    "for path in Config.PDF_PATHS:\n",
    "    try:\n",
    "        loader = PyPDFLoader(path)\n",
    "        pages = loader.load_and_split(text_splitter=None)\n",
    "        for page in pages:\n",
    "            cleaned = clean_brazilian_legal_text(page.page_content)\n",
    "            if cleaned.strip():\n",
    "                page.page_content = cleaned\n",
    "                documents.append(page)\n",
    "        print(f\"✓ {os.path.basename(path)} processado\")\n",
    "    except Exception as e:\n",
    "        print(f\"✗ Erro em {path}: {str(e)}\")"
   ]
  },
  {
   "cell_type": "code",
   "execution_count": 6,
   "metadata": {},
   "outputs": [],
   "source": [
    "# Configuração do text splitter jurídico corrigida\n",
    "text_splitter = RecursiveCharacterTextSplitter(\n",
    "    chunk_size=Config.CHUNK_SIZE,\n",
    "    chunk_overlap=Config.CHUNK_OVERLAP,\n",
    "    separators=[\n",
    "        r\"\\n\\nArt\\. \\d+\\.\",  # Separa por artigos\n",
    "        r\"\\n§ \",             # Separa por parágrafos\n",
    "        r\"\\n\\n\", \n",
    "        r\"\\n\", \n",
    "        \" \", \n",
    "        \"\"\n",
    "    ],\n",
    "    length_function=lambda x: len(x.split()),\n",
    "    is_separator_regex=False  # Desativa regex complexo\n",
    ")"
   ]
  },
  {
   "cell_type": "code",
   "execution_count": 7,
   "metadata": {},
   "outputs": [
    {
     "name": "stdout",
     "output_type": "stream",
     "text": [
      "Total de chunks gerados: 126\n",
      "Exemplo de chunk inicial:\n",
      "1 Manual de Acolhimento e Classificação de Risco MANUAL DE ACOLHIMENTO E CLASSIFICAÇÃO DE RISCO Secretaria de Estado de Saúde do Distrito Federal 1a Versão...\n"
     ]
    }
   ],
   "source": [
    "# Processamento de documentos\n",
    "texts = text_splitter.split_documents(documents)\n",
    "\n",
    "# Verificação pós-split\n",
    "print(f\"Total de chunks gerados: {len(texts)}\")\n",
    "print(\"Exemplo de chunk inicial:\")\n",
    "print(texts[0].page_content[:500] + \"...\")"
   ]
  },
  {
   "cell_type": "code",
   "execution_count": 8,
   "metadata": {},
   "outputs": [
    {
     "name": "stdout",
     "output_type": "stream",
     "text": [
      "Chunks duplicados: 0\n"
     ]
    }
   ],
   "source": [
    "# Verificar duplicatas\n",
    "seen = set()\n",
    "duplicates = 0\n",
    "for t in texts:\n",
    "    h = hash(t.page_content.strip().lower())\n",
    "    if h in seen:\n",
    "        duplicates += 1\n",
    "    seen.add(h)\n",
    "print(f\"Chunks duplicados: {duplicates}\")"
   ]
  },
  {
   "cell_type": "code",
   "execution_count": 9,
   "metadata": {},
   "outputs": [
    {
     "name": "stdout",
     "output_type": "stream",
     "text": [
      "WARNING:tensorflow:From c:\\Users\\mathe\\AppData\\Local\\Programs\\Python\\Python312\\Lib\\site-packages\\tf_keras\\src\\losses.py:2976: The name tf.losses.sparse_softmax_cross_entropy is deprecated. Please use tf.compat.v1.losses.sparse_softmax_cross_entropy instead.\n",
      "\n"
     ]
    }
   ],
   "source": [
    "# Inicializar embeddings\n",
    "embeddings = HuggingFaceEmbeddings(model_name=Config.EMBEDDING_MODEL)"
   ]
  },
  {
   "cell_type": "markdown",
   "metadata": {},
   "source": [
    "#### O que é ChromaDB?\n",
    "##### 📌 ChromaDB é um banco de dados vetorial que permite armazenar e buscar textos embeddados.\n",
    "##### 📌 Ele é otimizado para busca semântica, onde textos semelhantes retornam resultados próximos.\n",
    "##### 📌 Armazena os embeddings persistentemente, evitando precisar recalcular sempre."
   ]
  },
  {
   "cell_type": "code",
   "execution_count": 10,
   "metadata": {},
   "outputs": [],
   "source": [
    "# Criar vetorstore\n",
    "db = Chroma.from_documents(\n",
    "    texts,\n",
    "    embeddings,\n",
    "    persist_directory=Config.PERSIST_DIR,\n",
    "    collection_metadata={\"hnsw:space\": \"cosine\"}\n",
    ")"
   ]
  },
  {
   "cell_type": "code",
   "execution_count": 11,
   "metadata": {},
   "outputs": [],
   "source": [
    "# Configurar retriever\n",
    "retriever = db.as_retriever(\n",
    "    search_type=\"mmr\",\n",
    "    search_kwargs={\n",
    "        \"k\": 1,\n",
    "        \"lambda_mult\": 0.45,\n",
    "        \"score_threshold\": 0.25\n",
    "    }\n",
    ")"
   ]
  },
  {
   "cell_type": "code",
   "execution_count": 12,
   "metadata": {},
   "outputs": [],
   "source": [
    "# Inicializar LLM\n",
    "llm = OllamaLLM(\n",
    "    model=Config.LLM_MODEL,\n",
    "    temperature=Config.TEMPERATURE,\n",
    "    system=\"Você é uma enfermeira especialista em triagens. Responda com base no documento fornecido.\"\n",
    "    # system=\"Você é um especialista em legislação de trânsito brasileira. Responda com base nos documentos fornecidos.\"\n",
    ")"
   ]
  },
  {
   "cell_type": "code",
   "execution_count": 13,
   "metadata": {},
   "outputs": [],
   "source": [
    "# Prompt template\n",
    "prompt_template = \"\"\"\n",
    "    Analise os seguintes trechos e responda apenas com a cor da sua prioridade na classificação:\n",
    "\n",
    "    Contexto:\n",
    "    {context}\n",
    "    Pergunta: {question}\n",
    "    \n",
    "    Resposta:\n",
    "\"\"\"\n",
    "\n",
    "#Inclua:\n",
    "#    1. Base legal (artigos/parágrafos)\n",
    "#    2. Explicação técnica\n",
    "#    3. Fontes (documento e página)\n",
    "PROMPT = PromptTemplate(\n",
    "    template=prompt_template,\n",
    "    input_variables=[\"context\", \"question\"]\n",
    ")"
   ]
  },
  {
   "cell_type": "code",
   "execution_count": 14,
   "metadata": {},
   "outputs": [],
   "source": [
    "# Criar cadeia QA\n",
    "qa_chain = RetrievalQA.from_chain_type(\n",
    "    llm=llm,\n",
    "    chain_type=\"stuff\",\n",
    "    retriever=retriever,\n",
    "    return_source_documents=True,\n",
    "    chain_type_kwargs={\"prompt\": PROMPT}\n",
    ")"
   ]
  },
  {
   "cell_type": "code",
   "execution_count": 15,
   "metadata": {},
   "outputs": [],
   "source": [
    "def consultar(pergunta):\n",
    "    try:\n",
    "        result = qa_chain.invoke({\"query\": pergunta})\n",
    "        \n",
    "        print(f\"\\n🔍 Pergunta: {pergunta}\")\n",
    "        print(f\"\\n📝 Resposta:\\n{result['result']}\")\n",
    "        \n",
    "        print(\"\\n📚 Fontes:\")\n",
    "        seen_sources = set()\n",
    "        for doc in result['source_documents']:\n",
    "            src = f\"{os.path.basename(doc.metadata['source'])} - Página {doc.metadata['page']}\"\n",
    "            if src not in seen_sources:\n",
    "                print(f\"  - {src}\")\n",
    "                seen_sources.add(src)\n",
    "                \n",
    "    except Exception as e:\n",
    "        print(f\"Erro: {str(e)}\")"
   ]
  },
  {
   "cell_type": "code",
   "execution_count": 26,
   "metadata": {},
   "outputs": [
    {
     "name": "stdout",
     "output_type": "stream",
     "text": [
      "\n",
      "🔍 Pergunta: Considere um paciente com dor moderada (entre 4 e 6 em uma escala de 0 a 10) que melhora com analgésicos, febre entre 37,5°C e 38°C sem sinais graves de toxemia, deficiência neurológica de evolução lenta há mais de 24 horas, presença de sangue na urina sem outros sinais graves, vômitos e diarreia moderados sem sinais de desidratação grave, pressão arterial elevada sem sintomas de AVC ou crise hipertensiva, ferimentos leves com sangramento controlado, dificuldade respiratória leve sem sinais de insuficiência respiratória grave e histórico de alergia leve sem sinais de anafilaxia. Com base nesses sintomas, qual seria a prioridade de atendimento desse paciente de acordo com o protocolo de classificação de risco?\n",
      "\n",
      "📝 Resposta:\n",
      "Laranja.\n",
      "\n",
      "📚 Fontes:\n",
      "  - classificacao.pdf - Página 69\n"
     ]
    }
   ],
   "source": [
    "consultar(\"Considere um paciente com dor moderada (entre 4 e 6 em uma escala de 0 a 10) que melhora com analgésicos, febre entre 37,5°C e 38°C sem sinais graves de toxemia, deficiência neurológica de evolução lenta há mais de 24 horas, presença de sangue na urina sem outros sinais graves, vômitos e diarreia moderados sem sinais de desidratação grave, pressão arterial elevada sem sintomas de AVC ou crise hipertensiva, ferimentos leves com sangramento controlado, dificuldade respiratória leve sem sinais de insuficiência respiratória grave e histórico de alergia leve sem sinais de anafilaxia. Com base nesses sintomas, qual seria a prioridade de atendimento desse paciente de acordo com o protocolo de classificação de risco?\")"
   ]
  },
  {
   "cell_type": "code",
   "execution_count": 31,
   "metadata": {},
   "outputs": [
    {
     "name": "stdout",
     "output_type": "stream",
     "text": [
      "\n",
      "🔍 Pergunta: Quais as penalidades por dirigir sob efeito de álcool?\n",
      "\n",
      "📝 Resposta:\n",
      "Aqui estão as penalidades por dirigir sob efeito de álcool, conforme a legislação brasileira:\n",
      "\n",
      "1. **Base Legal**: De acordo com o Código de Trânsito Rodoviário Brasileiro (CRTRB), artigo 305, § 2º, \"O condutor que se encontra em estado de embriaguez, sob efeito de álcool ou qualquer outro medicamento, será punido com multa, desde que não haja morte ou lesão corporal.\" Além disso, o artigo 305, § 3º, estabelece que \"A multa será aplicada ao condutor, independentemente da presença de danos à vítima.\"\n",
      "2. **Explicação Técnica**: Dirigir sob efeito de álcool é considerado um crime grave, pois aumenta o risco de acidentes e lesões. O álcool pode reduzir a coordenação motora, a percepção sensorial e a capacidade de tomar decisões rápidas, tornando mais difícil controlar o veículo.\n",
      "3. **Fontes**:\n",
      " * Documento: Código de Trânsito Rodoviário Brasileiro (CRTRB) - Lei nº 9.664, de 27 de maio de 1998\n",
      " * Página: [www.trf.gov.br](http://www.trf.gov.br)\n",
      "\n",
      "Penalidades:\n",
      "\n",
      "* Multa: R$ 35,97 a R$ 1.046,50\n",
      "* Restrições de habilitação: 3 a 12 meses\n",
      "* Prisão: Em casos graves, pode ser aplicada prisão\n",
      "\n",
      "Lembre-se de que as penalidades podem variar dependendo da gravidade do crime e das circunstâncias específicas do caso.\n",
      "\n",
      "📚 Fontes:\n",
      "  - Direção Defensiva.pdf - Página 21\n",
      "  - Direção Defensiva.pdf - Página 48\n"
     ]
    }
   ],
   "source": [
    "# Exemplo 2\n",
    "consultar(\"Quais as penalidades por dirigir sob efeito de álcool?\")"
   ]
  },
  {
   "cell_type": "code",
   "execution_count": 21,
   "metadata": {},
   "outputs": [
    {
     "name": "stdout",
     "output_type": "stream",
     "text": [
      "\n",
      "🔍 Pergunta: Compare as exigências para as categorias B e D\n",
      "\n",
      "📝 Resposta:\n",
      "**Comparação das Exigências para Categorias B e D**\n",
      "\n",
      "**Base Legal:**\n",
      "\n",
      "*   Categoria B: Artigo 60, § 1º do CTB (Código de Trânsito Brasileiro) - \"A via deve ser classificada como urbana ou rural com base nos seguintes critérios:\n",
      "    *   Via urbana: via que recebe o tráfego de veículos motorizados e pedestres, sem a presença de tráfego de carga;\n",
      "    *   Via rural: via que recebe o tráfego de veículos motorizados e pedestres, com a presença de tráfego de carga.\"\n",
      "*   Categoria D: Artigo 60, § 2º do CTB - \"A categoria D é reservada para vias rurais que recebem o tráfego de veículos motorizados e pedestres, com a presença de tráfego de carga.\"\n",
      "\n",
      "**Explicação Técnica:**\n",
      "\n",
      "*   Categoria B:\n",
      "    *   É utilizada em via urbana;\n",
      "    *   Aplique-se a velocidade máxima permitida é de 60 km/h.\n",
      "*   Categoria D:\n",
      "    *   É utilizada em via rural;\n",
      "    *   Aplique-se a velocidade máxima permitida é de 80 km/h.\n",
      "\n",
      "**Fontes:**\n",
      "\n",
      "*   Documento: Código de Trânsito Brasileiro (CTB);\n",
      "*   Página: [www.trf.gov.br](http://www.trf.gov.br)\n",
      "\n",
      "📚 Fontes:\n",
      "  - Sinalização.pdf - Página 151\n",
      "  - Manual de Primeiros Socorros.pdf - Página 11\n",
      "  - Direção Defensiva.pdf - Página 7\n",
      "  - Sinalização.pdf - Página 55\n",
      "  - Sinalização.pdf - Página 48\n",
      "  - Direção Defensiva.pdf - Página 55\n",
      "  - Sinalização.pdf - Página 86\n"
     ]
    }
   ],
   "source": [
    "# Exemplo 3\n",
    "consultar(\"Compare as exigências para as categorias B e D\")"
   ]
  },
  {
   "cell_type": "code",
   "execution_count": 22,
   "metadata": {},
   "outputs": [
    {
     "name": "stdout",
     "output_type": "stream",
     "text": [
      "\n",
      "🔍 Pergunta: \n",
      "    Escolha a opção correta: Para habilitar-se na categoria “D”, o candidato deverá ser: \n",
      "    a) maior de 18 anos; \n",
      "    b) penalmente imputável, não importando sua idade; \n",
      "    c) menor de 21 anos; \n",
      "    d) maior de 21 anos\"\n",
      "    \n",
      "\n",
      "📝 Resposta:\n",
      "**Base Legal:**\n",
      "O artigo 10 da Lei nº 9.394, de 4 de setembro de 1997, que estabelece as diretrizes para os programas de educação básica, inclui a seguinte disposição: \"A habilitação para dirigir veículos automotores é obrigatória para todos os candidatos que pretendem obter o certificado de habilitação para dirigir.\"\n",
      "\n",
      "Além disso, o artigo 12 da Lei nº 9.394/97 estabelece que a idade mínima para obter a habilitação para dirigir é de 18 anos.\n",
      "\n",
      "**Explicação Técnica:**\n",
      "A habilitação para dirigir é um documento que autoriza uma pessoa a operar veículos automotores em estradas públicas. Para obter essa habilitação, o candidato deve atender a certos requisitos legais, incluindo idade.\n",
      "\n",
      "O artigo 10 da Lei nº 9.394/97 estabelece que o candidato deve ser maior de 18 anos para obter a habilitação para dirigir. Isso significa que se o candidato for menor de 18 anos, ele não poderá obter a habilitação.\n",
      "\n",
      "**Fontes:**\n",
      "\n",
      "* Lei nº 9.394, de 4 de setembro de 1997 (Documento)\n",
      "* Página 23 da Lei nº 9.394/97 (Página)\n",
      "\n",
      "**Resposta:**\n",
      "A opção correta é: **a) maior de 18 anos;**\n",
      "\n",
      "📚 Fontes:\n",
      "  - Direção Defensiva.pdf - Página 58\n",
      "  - Sinalização.pdf - Página 151\n",
      "  - Direção Defensiva.pdf - Página 7\n",
      "  - Sinalização.pdf - Página 48\n",
      "  - Direção Defensiva.pdf - Página 17\n",
      "  - Direção Defensiva.pdf - Página 21\n",
      "  - Direção Defensiva.pdf - Página 56\n"
     ]
    }
   ],
   "source": [
    "consultar(\n",
    "    '''\n",
    "    Escolha a opção correta: Para habilitar-se na categoria “D”, o candidato deverá ser: \n",
    "    a) maior de 18 anos; \n",
    "    b) penalmente imputável, não importando sua idade; \n",
    "    c) menor de 21 anos; \n",
    "    d) maior de 21 anos\"\n",
    "    '''\n",
    ")"
   ]
  },
  {
   "cell_type": "code",
   "execution_count": 23,
   "metadata": {},
   "outputs": [
    {
     "name": "stdout",
     "output_type": "stream",
     "text": [
      "\n",
      "🔍 Pergunta: \n",
      "    Escolha a opção correta: Para dirigir com segurança, evitando acidentes, o condutor deve demonstrar:\n",
      "    \n",
      "    Opção 1: habilidade ao dirigir; conhecimento das regras de trânsito; cooperação com os demais usuários da via;\n",
      "    Opção 2: conhecimento de algumas regras de trânsito; agressividade nas situações perigosas; habilidade ao dirigir;\n",
      "    Opção 3: bom senso; respeito apenas às regras mais importantes para a segurança; habilidade ao dirigir;\n",
      "    Opção 4: habilidade ao dirigir; conhecimento de algumas regras de trânsito; bom senso.\n",
      "    \n",
      "\n",
      "📝 Resposta:\n",
      "**Escolha a opção correta:**\n",
      "\n",
      "Opção 4: habilidade ao dirigir; conhecimento de algumas regras de trânsito; bom senso.\n",
      "\n",
      "**Razão:**\n",
      "\n",
      "Para dirigir com segurança, é necessário demonstrar habilidade ao dirigir, conhecimento de algumas regras de trânsito e bom senso. Isso porque a habilidade ao dirigir é fundamental para controlar o veículo de forma eficaz, o conhecimento de algumas regras de trânsito ajuda a evitar acidentes e o bom senso permite tomar decisões informadas em situações perigosas.\n",
      "\n",
      "**Base legal:**\n",
      "\n",
      "O artigo 48 do Código de Trânsito Brasileiro (CTB) estabelece que o condutor deve dirigir com responsabilidade, respeitando as regras de trânsito e sendo atento às condições da via. Além disso, o artigo 50 do CTB exige que o condutor demonstre habilidade ao dirigir e conheça as regras de trânsito.\n",
      "\n",
      "**Explicação técnica:**\n",
      "\n",
      "A habilidade ao dirigir é fundamental para controlar o veículo de forma eficaz, especialmente em situações de alta velocidade ou em condições adversas. O conhecimento de algumas regras de trânsito ajuda a evitar acidentes e a manter a ordem no tráfego. Juntos, a habilidade ao dirigir e o conhecimento de algumas regras de trânsito permitem que o condutor tome decisões informadas em situações perigosas.\n",
      "\n",
      "**Fontes:**\n",
      "\n",
      "* Código de Trânsito Brasileiro (CTB) - artigos 48 e 50.\n",
      "* Ministério dos Transportes - Guia de Condução Segura.\n",
      "* Organização Mundial da Saúde (OMS) - Guia para a Condução Segura.\n",
      "\n",
      "**Referências adicionais:**\n",
      "\n",
      "* CTB - artigo 1º, parágrafo 2º.\n",
      "* Ministério dos Transportes - Portal do Trânsito.\n",
      "* OMS - Guia para a Condução Segura.\n",
      "\n",
      "📚 Fontes:\n",
      "  - Sinalização.pdf - Página 23\n",
      "  - Direção Defensiva.pdf - Página 11\n",
      "  - Sinalização.pdf - Página 22\n",
      "  - Direção Defensiva.pdf - Página 10\n",
      "  - Direção Defensiva.pdf - Página 7\n",
      "  - Direção Defensiva.pdf - Página 29\n",
      "  - Direção Defensiva.pdf - Página 45\n"
     ]
    }
   ],
   "source": [
    "consultar(\n",
    "'''\n",
    "    Escolha a opção correta: Para dirigir com segurança, evitando acidentes, o condutor deve demonstrar:\n",
    "    \n",
    "    Opção 1: habilidade ao dirigir; conhecimento das regras de trânsito; cooperação com os demais usuários da via;\n",
    "    Opção 2: conhecimento de algumas regras de trânsito; agressividade nas situações perigosas; habilidade ao dirigir;\n",
    "    Opção 3: bom senso; respeito apenas às regras mais importantes para a segurança; habilidade ao dirigir;\n",
    "    Opção 4: habilidade ao dirigir; conhecimento de algumas regras de trânsito; bom senso.\n",
    "    '''\n",
    ")"
   ]
  },
  {
   "cell_type": "code",
   "execution_count": 24,
   "metadata": {},
   "outputs": [
    {
     "name": "stdout",
     "output_type": "stream",
     "text": [
      "\n",
      "🔍 Pergunta: \n",
      "    Escolha a opção correta: O condutor de veículo deve dar preferência de passagem aos pedestres:\n",
      "    \n",
      "    Opção 1: somente quando estão atravessando na faixa de pedestres;\n",
      "    Opção 2: que não tenham concluído a travessia, quando houver mudança de sinal;\n",
      "    Opção 3: caso as pessoas estejam próximas a área escolar;\n",
      "    Opção 4: somente quando isso for solicitado pelo agente de trânsito.\n",
      "    \n",
      "\n",
      "📝 Resposta:\n",
      "**Opção Correta:**\n",
      "\n",
      "A opção correta é **Opção 3: caso as pessoas estejam próximas a área escolar.**\n",
      "\n",
      "**Base Legal:**\n",
      "\n",
      "O artigo 27, § 2º, do Código de Trânsito Brasileiro (CTB) estabelece que \"o condutor de veículo deve dar preferência de passagem aos pedestres quando estes se encontrarem próximos a escolas ou à faixa de pedestres\".\n",
      "\n",
      "**Explicação Técnica:**\n",
      "\n",
      "A direção defensiva é uma abordagem de condução que visa minimizar os riscos e garantir a segurança de todos os usuários da via. Dada a importância de proteger as crianças e adolescentes, especialmente em áreas escolares, é fundamental que os condutores de veículos demonstrem uma atenção extra ao seu comportamento no trânsito.\n",
      "\n",
      "**Fonte:**\n",
      "\n",
      "* Código de Trânsito Brasileiro (CTB) - artigo 27, § 2º.\n",
      "* Documento \"Direção Defensiva\" do Ministério das Comunicações.\n",
      "\n",
      "📚 Fontes:\n",
      "  - Direção Defensiva.pdf - Página 29\n",
      "  - Sinalização.pdf - Página 23\n",
      "  - Direção Defensiva.pdf - Página 45\n",
      "  - Sinalização.pdf - Página 22\n",
      "  - Direção Defensiva.pdf - Página 11\n",
      "  - Direção Defensiva.pdf - Página 10\n",
      "  - Direção Defensiva.pdf - Página 58\n"
     ]
    }
   ],
   "source": [
    "consultar(\n",
    "    '''\n",
    "    Escolha a opção correta: O condutor de veículo deve dar preferência de passagem aos pedestres:\n",
    "    \n",
    "    Opção 1: somente quando estão atravessando na faixa de pedestres;\n",
    "    Opção 2: que não tenham concluído a travessia, quando houver mudança de sinal;\n",
    "    Opção 3: caso as pessoas estejam próximas a área escolar;\n",
    "    Opção 4: somente quando isso for solicitado pelo agente de trânsito.\n",
    "    '''\n",
    ")"
   ]
  },
  {
   "cell_type": "markdown",
   "metadata": {},
   "source": [
    "<img src=\"https://portal.wemeds.com.br/wp-content/uploads/2023/04/escore-news.jpg\" width=\"500\"/>"
   ]
  },
  {
   "cell_type": "code",
   "execution_count": null,
   "metadata": {},
   "outputs": [],
   "source": [
    "@tool\n",
    "def clinical_deterioration_risk(resp_rate: int, spo2: int, bp_systolic: int, heart_rate: int, temp: float, avpu: str) -> str:\n",
    "    \"\"\"Calcula o risco de deterioração clínica com base no escore NEWS.\n",
    "    \n",
    "    Args:\n",
    "        resp_rate: Frequência respiratória (rpm)\n",
    "        spo2: Saturação de oxigênio (%)\n",
    "        bp_systolic: Pressão arterial sistólica (mmHg)\n",
    "        heart_rate: Frequência cardíaca (bpm)\n",
    "        temp: Temperatura corporal (°C)\n",
    "        avpu: Nível de consciência (Alerta, Responde à Voz, Responde à Dor, Inconsciente)\n",
    "    \n",
    "    Returns:\n",
    "        Uma string indicando o nível de risco do paciente.\n",
    "    \"\"\"\n",
    "\n",
    "    if resp_rate <= 8:\n",
    "        resp_score = 3\n",
    "    elif 9 <= resp_rate <= 11:\n",
    "        resp_score = 1\n",
    "    elif 12 <= resp_rate <= 20:\n",
    "        resp_score = 0\n",
    "    elif 21 <= resp_rate <= 24:\n",
    "        resp_score = 2\n",
    "    else:\n",
    "        resp_score = 3\n",
    "    \n",
    "    if spo2 >= 96:\n",
    "        spo2_score = 0\n",
    "    elif 94 <= spo2 <= 95:\n",
    "        spo2_score = 1\n",
    "    elif 92 <= spo2 <= 93:\n",
    "        spo2_score = 2\n",
    "    else:\n",
    "        spo2_score = 3\n",
    "    \n",
    "    if bp_systolic >= 110 and bp_systolic <= 219:\n",
    "        bp_score = 0\n",
    "    elif 100 <= bp_systolic < 110:\n",
    "        bp_score = 1\n",
    "    elif 90 <= bp_systolic < 100:\n",
    "        bp_score = 2\n",
    "    else:\n",
    "        bp_score = 3\n",
    "    \n",
    "    if heart_rate <= 40:\n",
    "        hr_score = 3\n",
    "    elif 41 <= heart_rate <= 50:\n",
    "        hr_score = 1\n",
    "    elif 51 <= heart_rate <= 90:\n",
    "        hr_score = 0\n",
    "    elif 91 <= heart_rate <= 110:\n",
    "        hr_score = 1\n",
    "    elif 111 <= heart_rate <= 130:\n",
    "        hr_score = 2\n",
    "    else:\n",
    "        hr_score = 3\n",
    "    \n",
    "    if temp < 35:\n",
    "        temp_score = 3\n",
    "    elif 35 <= temp <= 36:\n",
    "        temp_score = 1\n",
    "    elif 36.1 <= temp <= 38:\n",
    "        temp_score = 0\n",
    "    elif 38.1 <= temp <= 39:\n",
    "        temp_score = 1\n",
    "    else:\n",
    "        temp_score = 2\n",
    "    \n",
    "    avpu_score = 0 if avpu.lower() == \"alerta\" else 3\n",
    "    total_score = resp_score + spo2_score + bp_score + hr_score + temp_score + avpu_score\n",
    "    \n",
    "    if total_score == 0:\n",
    "        return \"Risco mínimo - Monitoramento de rotina\"\n",
    "    elif 1 <= total_score <= 4:\n",
    "        return \"Risco baixo - Observação clínica\"\n",
    "    elif 5 <= total_score <= 6:\n",
    "        return \"Risco moderado - Revisão urgente por profissional de saúde\"\n",
    "    else:\n",
    "        return \"Risco alto - Atendimento médico imediato\""
   ]
  }
 ],
 "metadata": {
  "kernelspec": {
   "display_name": "Python 3",
   "language": "python",
   "name": "python3"
  },
  "language_info": {
   "codemirror_mode": {
    "name": "ipython",
    "version": 3
   },
   "file_extension": ".py",
   "mimetype": "text/x-python",
   "name": "python",
   "nbconvert_exporter": "python",
   "pygments_lexer": "ipython3",
   "version": "3.12.3"
  }
 },
 "nbformat": 4,
 "nbformat_minor": 2
}
