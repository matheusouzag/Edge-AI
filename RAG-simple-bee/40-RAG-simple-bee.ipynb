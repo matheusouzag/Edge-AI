{
 "cells": [
  {
   "cell_type": "markdown",
   "metadata": {},
   "source": [
    "## Projeto RAG\n",
    "\n",
    "* Usar documentos sem obstruções\n",
    "* Fragmentar Textos\n",
    "* Criar embeddings e armazenar\n",
    "* Criar o prompt"
   ]
  },
  {
   "cell_type": "code",
   "execution_count": 2,
   "metadata": {},
   "outputs": [
    {
     "data": {
      "text/plain": [
       "768"
      ]
     },
     "execution_count": 2,
     "metadata": {},
     "output_type": "execute_result"
    }
   ],
   "source": [
    "import ollama\n",
    "import chromadb\n",
    "import time\n",
    "\n",
    "#start_time = time.perf_counter()  # Start timing\n",
    "EMB_MODEL = \"nomic-embed-text\" #\"mxbai-embed-large\" #\"all-minilm\" \n",
    "MODEL = \"llama3.2:3b\"\n",
    "\n",
    "documents = [\n",
    "    \"Bee-keeping, also known as apiculture, involves the maintenance of bee colonies, typically in hives, by humans.\",\n",
    "    \"The most commonly kept species of bees is the European honey bee (Apis mellifera).\",\n",
    "    \"Bee-keeping dates back to at least 4,500 years ago, with evidence of ancient Egyptians practicing it.\",\n",
    "    \"A beekeeper's primary role is to manage hives to ensure the health of the bee colony and maximize honey production.\",\n",
    "    \"Honey bees are social insects, living in colonies with a single queen, numerous worker bees, and drones.\",\n",
    "    \"The queen bee can lay up to 2,000 eggs per day during peak seasons.\",\n",
    "    \"Worker bees are female and perform all the tasks in the hive except for reproduction.\",\n",
    "    \"Drones are male bees whose primary role is to mate with a queen from another hive.\",\n",
    "    \"Honey bees communicate with each other through the 'waggle dance,' which indicates the direction and distance to food sources.\",\n",
    "    \"Bees produce honey from the nectar they collect from flowers, which they store in the hive for food during winter.\",\n",
    "    \"Bees also produce beeswax, which they use to build the honeycomb structure in the hive.\",\n",
    "    \"Propolis, another bee product, is a resin-like substance collected from tree buds and used to seal gaps in the hive.\",\n",
    "    \"Bees play a crucial role in pollination, which is essential for the reproduction of many plants and crops.\",\n",
    "    \"A typical bee colony can contain between 20,000 and 80,000 bees.\",\n",
    "    \"Bee-keeping can be done for various purposes, including honey production, pollination services, and the sale of bees and related products.\",\n",
    "    \"Beekeepers must inspect their hives regularly to check for diseases, pests, and the overall health of the colony.\",\n",
    "    \"Common pests and diseases that affect bees include varroa mites, hive beetles, and foulbrood.\",\n",
    "    \"Bee-keeping requires protective clothing and equipment, such as a bee suit, gloves, and a smoker to calm the bees.\",\n",
    "    \"Sustainable bee-keeping practices are important for maintaining healthy bee populations and ecosystems.\",\n",
    "    \"Beekeeping can be a hobby, a part-time occupation, or a full-time profession, depending on the scale and intent of the beekeeper.\",\n",
    "    \"Almost all the honey we consume comes from western honey bees (Apis mellifera), a hybrid of European and African species.\", \n",
    "    \"There are another 20,000 different bee species in the world.\",  \n",
    "    \"Brazil alone has more than 300 different bee species, and the vast majority, unlike western honey bees, don’t sting.\", \n",
    "    \"Reports written in 1577 by Hans Staden, mention three native bees used by indigenous people in Brazil.\",\n",
    "    \"The indigenous people in Brazil used bees for medicine and food purposes\",\n",
    "    \"From Hans Staden report: probable species: mandaçaia (Melipona quadrifasciata), mandaguari (Scaptotrigona postica) and jataí-amarela (Tetragonisca angustula).\"\n",
    "]\n",
    "\n",
    "client = chromadb.Client()\n",
    "collection = client.create_collection(name=\"bee_facts\")\n",
    "\n",
    "# store each document in a vector embedding database\n",
    "for i, d in enumerate(documents):\n",
    "  response = ollama.embeddings(model=EMB_MODEL, prompt=d)\n",
    "  embedding = response[\"embedding\"]\n",
    "  collection.add(\n",
    "    ids=[str(i)],\n",
    "    embeddings=[embedding],\n",
    "    documents=[d]\n",
    "  )\n",
    "\n",
    "len(embedding)"
   ]
  }
 ],
 "metadata": {
  "kernelspec": {
   "display_name": "Python 3",
   "language": "python",
   "name": "python3"
  },
  "language_info": {
   "codemirror_mode": {
    "name": "ipython",
    "version": 3
   },
   "file_extension": ".py",
   "mimetype": "text/x-python",
   "name": "python",
   "nbconvert_exporter": "python",
   "pygments_lexer": "ipython3",
   "version": "3.12.3"
  }
 },
 "nbformat": 4,
 "nbformat_minor": 2
}
